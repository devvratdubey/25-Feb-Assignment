{
 "cells": [
  {
   "cell_type": "code",
   "execution_count": 1,
   "id": "f4be3881-d83c-4edc-979f-b13925445e16",
   "metadata": {},
   "outputs": [],
   "source": [
    "import pandas as pd"
   ]
  },
  {
   "cell_type": "code",
   "execution_count": 2,
   "id": "b2b9240f-619e-4c02-a148-924e13839b5b",
   "metadata": {},
   "outputs": [],
   "source": [
    "course_name = ['Data Science', 'Machine Learning', 'Big Data', 'Data Engineer']\n",
    "duration = [2,3,6,4]\n",
    "df = pd.DataFrame(data = {'course_name' : course_name, 'duration' : duration})"
   ]
  },
  {
   "cell_type": "code",
   "execution_count": 3,
   "id": "e43f0b35-4148-467d-bd07-2095a1be11dc",
   "metadata": {},
   "outputs": [
    {
     "data": {
      "text/html": [
       "<div>\n",
       "<style scoped>\n",
       "    .dataframe tbody tr th:only-of-type {\n",
       "        vertical-align: middle;\n",
       "    }\n",
       "\n",
       "    .dataframe tbody tr th {\n",
       "        vertical-align: top;\n",
       "    }\n",
       "\n",
       "    .dataframe thead th {\n",
       "        text-align: right;\n",
       "    }\n",
       "</style>\n",
       "<table border=\"1\" class=\"dataframe\">\n",
       "  <thead>\n",
       "    <tr style=\"text-align: right;\">\n",
       "      <th></th>\n",
       "      <th>course_name</th>\n",
       "      <th>duration</th>\n",
       "    </tr>\n",
       "  </thead>\n",
       "  <tbody>\n",
       "    <tr>\n",
       "      <th>0</th>\n",
       "      <td>Data Science</td>\n",
       "      <td>2</td>\n",
       "    </tr>\n",
       "    <tr>\n",
       "      <th>1</th>\n",
       "      <td>Machine Learning</td>\n",
       "      <td>3</td>\n",
       "    </tr>\n",
       "    <tr>\n",
       "      <th>2</th>\n",
       "      <td>Big Data</td>\n",
       "      <td>6</td>\n",
       "    </tr>\n",
       "    <tr>\n",
       "      <th>3</th>\n",
       "      <td>Data Engineer</td>\n",
       "      <td>4</td>\n",
       "    </tr>\n",
       "  </tbody>\n",
       "</table>\n",
       "</div>"
      ],
      "text/plain": [
       "        course_name  duration\n",
       "0      Data Science         2\n",
       "1  Machine Learning         3\n",
       "2          Big Data         6\n",
       "3     Data Engineer         4"
      ]
     },
     "execution_count": 3,
     "metadata": {},
     "output_type": "execute_result"
    }
   ],
   "source": [
    "df"
   ]
  },
  {
   "cell_type": "markdown",
   "id": "1e553cb0-af6c-407f-a175-32915138da9b",
   "metadata": {},
   "source": [
    "#Q1 ANSWER"
   ]
  },
  {
   "cell_type": "code",
   "execution_count": 4,
   "id": "6d96beab-cc4f-43b4-a367-a8384c0590ea",
   "metadata": {},
   "outputs": [
    {
     "data": {
      "text/plain": [
       "course_name    Machine Learning\n",
       "duration                      3\n",
       "Name: 1, dtype: object"
      ]
     },
     "execution_count": 4,
     "metadata": {},
     "output_type": "execute_result"
    }
   ],
   "source": [
    "df.iloc[1]"
   ]
  },
  {
   "cell_type": "markdown",
   "id": "f39b4425-1600-49b9-8959-eaa5b011aa50",
   "metadata": {},
   "source": [
    "#Q2 ANSWER"
   ]
  },
  {
   "cell_type": "code",
   "execution_count": 5,
   "id": "992c7c8d-f2c0-4dcc-b93a-e922a6732535",
   "metadata": {},
   "outputs": [
    {
     "data": {
      "text/html": [
       "<div>\n",
       "<style scoped>\n",
       "    .dataframe tbody tr th:only-of-type {\n",
       "        vertical-align: middle;\n",
       "    }\n",
       "\n",
       "    .dataframe tbody tr th {\n",
       "        vertical-align: top;\n",
       "    }\n",
       "\n",
       "    .dataframe thead th {\n",
       "        text-align: right;\n",
       "    }\n",
       "</style>\n",
       "<table border=\"1\" class=\"dataframe\">\n",
       "  <thead>\n",
       "    <tr style=\"text-align: right;\">\n",
       "      <th></th>\n",
       "      <th>course_name</th>\n",
       "      <th>duration</th>\n",
       "    </tr>\n",
       "  </thead>\n",
       "  <tbody>\n",
       "    <tr>\n",
       "      <th>0</th>\n",
       "      <td>Data Science</td>\n",
       "      <td>2</td>\n",
       "    </tr>\n",
       "    <tr>\n",
       "      <th>1</th>\n",
       "      <td>Machine Learning</td>\n",
       "      <td>3</td>\n",
       "    </tr>\n",
       "    <tr>\n",
       "      <th>2</th>\n",
       "      <td>Big Data</td>\n",
       "      <td>6</td>\n",
       "    </tr>\n",
       "  </tbody>\n",
       "</table>\n",
       "</div>"
      ],
      "text/plain": [
       "        course_name  duration\n",
       "0      Data Science         2\n",
       "1  Machine Learning         3\n",
       "2          Big Data         6"
      ]
     },
     "execution_count": 5,
     "metadata": {},
     "output_type": "execute_result"
    }
   ],
   "source": [
    "df.loc[0:2,[\"course_name\",\"duration\"]]#label based selection method and include last element of range"
   ]
  },
  {
   "cell_type": "markdown",
   "id": "d49cf3de-ee94-4c1d-8955-c54bdcc64055",
   "metadata": {},
   "source": [
    "The loc() function is label based data selecting method which means that we have to pass the name of the row or column which we want to select. This method includes the last element of the range passed in it"
   ]
  },
  {
   "cell_type": "code",
   "execution_count": 6,
   "id": "9cd08a04-d463-4f88-b961-66c511ad1d70",
   "metadata": {},
   "outputs": [
    {
     "data": {
      "text/html": [
       "<div>\n",
       "<style scoped>\n",
       "    .dataframe tbody tr th:only-of-type {\n",
       "        vertical-align: middle;\n",
       "    }\n",
       "\n",
       "    .dataframe tbody tr th {\n",
       "        vertical-align: top;\n",
       "    }\n",
       "\n",
       "    .dataframe thead th {\n",
       "        text-align: right;\n",
       "    }\n",
       "</style>\n",
       "<table border=\"1\" class=\"dataframe\">\n",
       "  <thead>\n",
       "    <tr style=\"text-align: right;\">\n",
       "      <th></th>\n",
       "      <th>course_name</th>\n",
       "      <th>duration</th>\n",
       "    </tr>\n",
       "  </thead>\n",
       "  <tbody>\n",
       "    <tr>\n",
       "      <th>0</th>\n",
       "      <td>Data Science</td>\n",
       "      <td>2</td>\n",
       "    </tr>\n",
       "    <tr>\n",
       "      <th>1</th>\n",
       "      <td>Machine Learning</td>\n",
       "      <td>3</td>\n",
       "    </tr>\n",
       "  </tbody>\n",
       "</table>\n",
       "</div>"
      ],
      "text/plain": [
       "        course_name  duration\n",
       "0      Data Science         2\n",
       "1  Machine Learning         3"
      ]
     },
     "execution_count": 6,
     "metadata": {},
     "output_type": "execute_result"
    }
   ],
   "source": [
    "df.iloc[0:2,0:2]# does not include last element of range and index based selection method"
   ]
  },
  {
   "cell_type": "markdown",
   "id": "0dcddb77-2aca-4ebf-9d68-2aefff18ae57",
   "metadata": {},
   "source": [
    "The iloc() function is an indexed-based selecting method which means that we have to pass an integer index in the method to select a specific row/column. This method does not include the last element of the range"
   ]
  },
  {
   "cell_type": "markdown",
   "id": "9d79923d-4951-45c8-ba15-cd45d4838740",
   "metadata": {},
   "source": [
    "#Q3 ANSWER"
   ]
  },
  {
   "cell_type": "code",
   "execution_count": 7,
   "id": "91728eac-d12e-4514-98b9-cfc92838c443",
   "metadata": {},
   "outputs": [],
   "source": [
    "new_df=df.reindex([3,0,1,2])"
   ]
  },
  {
   "cell_type": "code",
   "execution_count": 8,
   "id": "0b270f91-45da-46a8-80cc-04e36d06de06",
   "metadata": {},
   "outputs": [
    {
     "data": {
      "text/html": [
       "<div>\n",
       "<style scoped>\n",
       "    .dataframe tbody tr th:only-of-type {\n",
       "        vertical-align: middle;\n",
       "    }\n",
       "\n",
       "    .dataframe tbody tr th {\n",
       "        vertical-align: top;\n",
       "    }\n",
       "\n",
       "    .dataframe thead th {\n",
       "        text-align: right;\n",
       "    }\n",
       "</style>\n",
       "<table border=\"1\" class=\"dataframe\">\n",
       "  <thead>\n",
       "    <tr style=\"text-align: right;\">\n",
       "      <th></th>\n",
       "      <th>course_name</th>\n",
       "      <th>duration</th>\n",
       "    </tr>\n",
       "  </thead>\n",
       "  <tbody>\n",
       "    <tr>\n",
       "      <th>3</th>\n",
       "      <td>Data Engineer</td>\n",
       "      <td>4</td>\n",
       "    </tr>\n",
       "    <tr>\n",
       "      <th>0</th>\n",
       "      <td>Data Science</td>\n",
       "      <td>2</td>\n",
       "    </tr>\n",
       "    <tr>\n",
       "      <th>1</th>\n",
       "      <td>Machine Learning</td>\n",
       "      <td>3</td>\n",
       "    </tr>\n",
       "    <tr>\n",
       "      <th>2</th>\n",
       "      <td>Big Data</td>\n",
       "      <td>6</td>\n",
       "    </tr>\n",
       "  </tbody>\n",
       "</table>\n",
       "</div>"
      ],
      "text/plain": [
       "        course_name  duration\n",
       "3     Data Engineer         4\n",
       "0      Data Science         2\n",
       "1  Machine Learning         3\n",
       "2          Big Data         6"
      ]
     },
     "execution_count": 8,
     "metadata": {},
     "output_type": "execute_result"
    }
   ],
   "source": [
    "new_df"
   ]
  },
  {
   "cell_type": "code",
   "execution_count": 9,
   "id": "e9f19498-9799-4861-9697-6186ee531ad8",
   "metadata": {},
   "outputs": [
    {
     "data": {
      "text/plain": [
       "course_name    Big Data\n",
       "duration              6\n",
       "Name: 2, dtype: object"
      ]
     },
     "execution_count": 9,
     "metadata": {},
     "output_type": "execute_result"
    }
   ],
   "source": [
    "new_df.loc[2]"
   ]
  },
  {
   "cell_type": "code",
   "execution_count": 10,
   "id": "d7583145-c1bc-425a-a07a-563d3f7084c5",
   "metadata": {},
   "outputs": [
    {
     "data": {
      "text/plain": [
       "course_name    Machine Learning\n",
       "duration                      3\n",
       "Name: 1, dtype: object"
      ]
     },
     "execution_count": 10,
     "metadata": {},
     "output_type": "execute_result"
    }
   ],
   "source": [
    "new_df.iloc[2]"
   ]
  },
  {
   "cell_type": "markdown",
   "id": "2e87d35b-223c-4aa8-baac-5c3a7028f0cb",
   "metadata": {},
   "source": [
    ".loc() is  label based selection method new_df.loc[2] here it searches where 2 s labelled as index\n",
    "\n",
    ".iloc() is index based selection method new_df.iloc[2] here it goes to default index 2"
   ]
  },
  {
   "cell_type": "markdown",
   "id": "4b8c8558-10c8-49de-ad9f-0d3fde62d57e",
   "metadata": {},
   "source": [
    "#Q4 ANSWER"
   ]
  },
  {
   "cell_type": "code",
   "execution_count": 39,
   "id": "25343c80-8497-4045-a368-244fc783c803",
   "metadata": {},
   "outputs": [],
   "source": [
    "import pandas as pd\n",
    "import numpy as np\n",
    "columns = ['column_1', 'column_2', 'column_3', 'column_4', 'column_5', 'column_6']\n",
    "indices = [1,2,3,4,5,6]\n",
    "#Creating a dataframe:\n",
    "df1 = pd.DataFrame(np.random.rand(6,6), columns = columns, index = indices)"
   ]
  },
  {
   "cell_type": "code",
   "execution_count": 40,
   "id": "e56866d1-c6c2-4338-986c-a18945f834ba",
   "metadata": {},
   "outputs": [
    {
     "data": {
      "text/html": [
       "<div>\n",
       "<style scoped>\n",
       "    .dataframe tbody tr th:only-of-type {\n",
       "        vertical-align: middle;\n",
       "    }\n",
       "\n",
       "    .dataframe tbody tr th {\n",
       "        vertical-align: top;\n",
       "    }\n",
       "\n",
       "    .dataframe thead th {\n",
       "        text-align: right;\n",
       "    }\n",
       "</style>\n",
       "<table border=\"1\" class=\"dataframe\">\n",
       "  <thead>\n",
       "    <tr style=\"text-align: right;\">\n",
       "      <th></th>\n",
       "      <th>column_1</th>\n",
       "      <th>column_2</th>\n",
       "      <th>column_3</th>\n",
       "      <th>column_4</th>\n",
       "      <th>column_5</th>\n",
       "      <th>column_6</th>\n",
       "    </tr>\n",
       "  </thead>\n",
       "  <tbody>\n",
       "    <tr>\n",
       "      <th>1</th>\n",
       "      <td>0.795508</td>\n",
       "      <td>0.628856</td>\n",
       "      <td>0.826488</td>\n",
       "      <td>0.000126</td>\n",
       "      <td>0.827122</td>\n",
       "      <td>0.820536</td>\n",
       "    </tr>\n",
       "    <tr>\n",
       "      <th>2</th>\n",
       "      <td>0.495751</td>\n",
       "      <td>0.608367</td>\n",
       "      <td>0.733820</td>\n",
       "      <td>0.417382</td>\n",
       "      <td>0.597207</td>\n",
       "      <td>0.284410</td>\n",
       "    </tr>\n",
       "    <tr>\n",
       "      <th>3</th>\n",
       "      <td>0.538788</td>\n",
       "      <td>0.415100</td>\n",
       "      <td>0.766536</td>\n",
       "      <td>0.210215</td>\n",
       "      <td>0.162282</td>\n",
       "      <td>0.395518</td>\n",
       "    </tr>\n",
       "    <tr>\n",
       "      <th>4</th>\n",
       "      <td>0.979380</td>\n",
       "      <td>0.564748</td>\n",
       "      <td>0.156676</td>\n",
       "      <td>0.587882</td>\n",
       "      <td>0.078914</td>\n",
       "      <td>0.892924</td>\n",
       "    </tr>\n",
       "    <tr>\n",
       "      <th>5</th>\n",
       "      <td>0.721548</td>\n",
       "      <td>0.463693</td>\n",
       "      <td>0.910167</td>\n",
       "      <td>0.124431</td>\n",
       "      <td>0.143147</td>\n",
       "      <td>0.467350</td>\n",
       "    </tr>\n",
       "    <tr>\n",
       "      <th>6</th>\n",
       "      <td>0.519971</td>\n",
       "      <td>0.752372</td>\n",
       "      <td>0.198725</td>\n",
       "      <td>0.043150</td>\n",
       "      <td>0.619712</td>\n",
       "      <td>0.556808</td>\n",
       "    </tr>\n",
       "  </tbody>\n",
       "</table>\n",
       "</div>"
      ],
      "text/plain": [
       "   column_1  column_2  column_3  column_4  column_5  column_6\n",
       "1  0.795508  0.628856  0.826488  0.000126  0.827122  0.820536\n",
       "2  0.495751  0.608367  0.733820  0.417382  0.597207  0.284410\n",
       "3  0.538788  0.415100  0.766536  0.210215  0.162282  0.395518\n",
       "4  0.979380  0.564748  0.156676  0.587882  0.078914  0.892924\n",
       "5  0.721548  0.463693  0.910167  0.124431  0.143147  0.467350\n",
       "6  0.519971  0.752372  0.198725  0.043150  0.619712  0.556808"
      ]
     },
     "execution_count": 40,
     "metadata": {},
     "output_type": "execute_result"
    }
   ],
   "source": [
    "df1"
   ]
  },
  {
   "cell_type": "code",
   "execution_count": 41,
   "id": "e26d61c0-e8e7-45fa-9915-1a292c960277",
   "metadata": {},
   "outputs": [
    {
     "name": "stdout",
     "output_type": "stream",
     "text": [
      "mean of column_1 is 0.6751576116969501\n",
      "mean of column_2 is 0.5721891771612398\n",
      "mean of column_3 is 0.5987353184662729\n",
      "mean of column_4 is 0.23053104763361842\n",
      "mean of column_5 is 0.404730687565999\n",
      "mean of column_6 is 0.5695910480199071\n"
     ]
    }
   ],
   "source": [
    "for i in df1.columns:\n",
    "    print(f\"mean of {i} is {df1[i].mean()}\")"
   ]
  },
  {
   "cell_type": "code",
   "execution_count": 42,
   "id": "c827ab19-d615-4eb4-926d-216a4b0b251f",
   "metadata": {},
   "outputs": [
    {
     "data": {
      "text/plain": [
       "0.12123524660125311"
      ]
     },
     "execution_count": 42,
     "metadata": {},
     "output_type": "execute_result"
    }
   ],
   "source": [
    "df1.column_2.std()"
   ]
  },
  {
   "cell_type": "markdown",
   "id": "e4d3c60c-bb31-45ce-8fab-7588f076dca2",
   "metadata": {},
   "source": [
    "#Q5 ANSWER"
   ]
  },
  {
   "cell_type": "code",
   "execution_count": 44,
   "id": "af9d8253-e67d-4864-9484-08771a3a9189",
   "metadata": {},
   "outputs": [
    {
     "data": {
      "text/html": [
       "<div>\n",
       "<style scoped>\n",
       "    .dataframe tbody tr th:only-of-type {\n",
       "        vertical-align: middle;\n",
       "    }\n",
       "\n",
       "    .dataframe tbody tr th {\n",
       "        vertical-align: top;\n",
       "    }\n",
       "\n",
       "    .dataframe thead th {\n",
       "        text-align: right;\n",
       "    }\n",
       "</style>\n",
       "<table border=\"1\" class=\"dataframe\">\n",
       "  <thead>\n",
       "    <tr style=\"text-align: right;\">\n",
       "      <th></th>\n",
       "      <th>column_1</th>\n",
       "      <th>column_2</th>\n",
       "      <th>column_3</th>\n",
       "      <th>column_4</th>\n",
       "      <th>column_5</th>\n",
       "      <th>column_6</th>\n",
       "    </tr>\n",
       "  </thead>\n",
       "  <tbody>\n",
       "    <tr>\n",
       "      <th>1</th>\n",
       "      <td>0.795508</td>\n",
       "      <td>0.628856</td>\n",
       "      <td>0.826488</td>\n",
       "      <td>0.000126</td>\n",
       "      <td>0.827122</td>\n",
       "      <td>0.820536</td>\n",
       "    </tr>\n",
       "    <tr>\n",
       "      <th>2</th>\n",
       "      <td>0.495751</td>\n",
       "      <td>0.608367</td>\n",
       "      <td>0.733820</td>\n",
       "      <td>0.417382</td>\n",
       "      <td>0.597207</td>\n",
       "      <td>0.284410</td>\n",
       "    </tr>\n",
       "    <tr>\n",
       "      <th>3</th>\n",
       "      <td>0.538788</td>\n",
       "      <td>0.415100</td>\n",
       "      <td>0.766536</td>\n",
       "      <td>0.210215</td>\n",
       "      <td>0.162282</td>\n",
       "      <td>0.395518</td>\n",
       "    </tr>\n",
       "    <tr>\n",
       "      <th>4</th>\n",
       "      <td>0.979380</td>\n",
       "      <td>0.564748</td>\n",
       "      <td>0.156676</td>\n",
       "      <td>0.587882</td>\n",
       "      <td>0.078914</td>\n",
       "      <td>0.892924</td>\n",
       "    </tr>\n",
       "    <tr>\n",
       "      <th>5</th>\n",
       "      <td>0.721548</td>\n",
       "      <td>0.463693</td>\n",
       "      <td>0.910167</td>\n",
       "      <td>0.124431</td>\n",
       "      <td>0.143147</td>\n",
       "      <td>0.467350</td>\n",
       "    </tr>\n",
       "    <tr>\n",
       "      <th>6</th>\n",
       "      <td>0.519971</td>\n",
       "      <td>0.752372</td>\n",
       "      <td>0.198725</td>\n",
       "      <td>0.043150</td>\n",
       "      <td>0.619712</td>\n",
       "      <td>0.556808</td>\n",
       "    </tr>\n",
       "  </tbody>\n",
       "</table>\n",
       "</div>"
      ],
      "text/plain": [
       "   column_1  column_2  column_3  column_4  column_5  column_6\n",
       "1  0.795508  0.628856  0.826488  0.000126  0.827122  0.820536\n",
       "2  0.495751  0.608367  0.733820  0.417382  0.597207  0.284410\n",
       "3  0.538788  0.415100  0.766536  0.210215  0.162282  0.395518\n",
       "4  0.979380  0.564748  0.156676  0.587882  0.078914  0.892924\n",
       "5  0.721548  0.463693  0.910167  0.124431  0.143147  0.467350\n",
       "6  0.519971  0.752372  0.198725  0.043150  0.619712  0.556808"
      ]
     },
     "execution_count": 44,
     "metadata": {},
     "output_type": "execute_result"
    }
   ],
   "source": [
    "df1"
   ]
  },
  {
   "cell_type": "code",
   "execution_count": 45,
   "id": "9d5983c9-04c0-4ad7-b0f4-e164f93514aa",
   "metadata": {},
   "outputs": [],
   "source": [
    "df1[\"column_2\"][2]=\"dev\""
   ]
  },
  {
   "cell_type": "code",
   "execution_count": 46,
   "id": "5d415aa2-18ff-4e35-83b9-687302eb4995",
   "metadata": {},
   "outputs": [
    {
     "data": {
      "text/html": [
       "<div>\n",
       "<style scoped>\n",
       "    .dataframe tbody tr th:only-of-type {\n",
       "        vertical-align: middle;\n",
       "    }\n",
       "\n",
       "    .dataframe tbody tr th {\n",
       "        vertical-align: top;\n",
       "    }\n",
       "\n",
       "    .dataframe thead th {\n",
       "        text-align: right;\n",
       "    }\n",
       "</style>\n",
       "<table border=\"1\" class=\"dataframe\">\n",
       "  <thead>\n",
       "    <tr style=\"text-align: right;\">\n",
       "      <th></th>\n",
       "      <th>column_1</th>\n",
       "      <th>column_2</th>\n",
       "      <th>column_3</th>\n",
       "      <th>column_4</th>\n",
       "      <th>column_5</th>\n",
       "      <th>column_6</th>\n",
       "    </tr>\n",
       "  </thead>\n",
       "  <tbody>\n",
       "    <tr>\n",
       "      <th>1</th>\n",
       "      <td>0.795508</td>\n",
       "      <td>0.628856</td>\n",
       "      <td>0.826488</td>\n",
       "      <td>0.000126</td>\n",
       "      <td>0.827122</td>\n",
       "      <td>0.820536</td>\n",
       "    </tr>\n",
       "    <tr>\n",
       "      <th>2</th>\n",
       "      <td>0.495751</td>\n",
       "      <td>dev</td>\n",
       "      <td>0.733820</td>\n",
       "      <td>0.417382</td>\n",
       "      <td>0.597207</td>\n",
       "      <td>0.284410</td>\n",
       "    </tr>\n",
       "    <tr>\n",
       "      <th>3</th>\n",
       "      <td>0.538788</td>\n",
       "      <td>0.4151</td>\n",
       "      <td>0.766536</td>\n",
       "      <td>0.210215</td>\n",
       "      <td>0.162282</td>\n",
       "      <td>0.395518</td>\n",
       "    </tr>\n",
       "    <tr>\n",
       "      <th>4</th>\n",
       "      <td>0.979380</td>\n",
       "      <td>0.564748</td>\n",
       "      <td>0.156676</td>\n",
       "      <td>0.587882</td>\n",
       "      <td>0.078914</td>\n",
       "      <td>0.892924</td>\n",
       "    </tr>\n",
       "    <tr>\n",
       "      <th>5</th>\n",
       "      <td>0.721548</td>\n",
       "      <td>0.463693</td>\n",
       "      <td>0.910167</td>\n",
       "      <td>0.124431</td>\n",
       "      <td>0.143147</td>\n",
       "      <td>0.467350</td>\n",
       "    </tr>\n",
       "    <tr>\n",
       "      <th>6</th>\n",
       "      <td>0.519971</td>\n",
       "      <td>0.752372</td>\n",
       "      <td>0.198725</td>\n",
       "      <td>0.043150</td>\n",
       "      <td>0.619712</td>\n",
       "      <td>0.556808</td>\n",
       "    </tr>\n",
       "  </tbody>\n",
       "</table>\n",
       "</div>"
      ],
      "text/plain": [
       "   column_1  column_2  column_3  column_4  column_5  column_6\n",
       "1  0.795508  0.628856  0.826488  0.000126  0.827122  0.820536\n",
       "2  0.495751       dev  0.733820  0.417382  0.597207  0.284410\n",
       "3  0.538788    0.4151  0.766536  0.210215  0.162282  0.395518\n",
       "4  0.979380  0.564748  0.156676  0.587882  0.078914  0.892924\n",
       "5  0.721548  0.463693  0.910167  0.124431  0.143147  0.467350\n",
       "6  0.519971  0.752372  0.198725  0.043150  0.619712  0.556808"
      ]
     },
     "execution_count": 46,
     "metadata": {},
     "output_type": "execute_result"
    }
   ],
   "source": [
    "df1"
   ]
  },
  {
   "cell_type": "markdown",
   "id": "2dfab72b-93c1-49cc-b8aa-44a9b5e882ec",
   "metadata": {},
   "source": [
    "df1.column_2.mean()"
   ]
  },
  {
   "cell_type": "markdown",
   "id": "a87d45e2-ef1c-4001-83b0-b85597ef8779",
   "metadata": {},
   "source": [
    "to find the mean of data all the data should be int or float but in column_2 the data is float and str so mean cannot be calulated because unsupported operand type(s) for +: 'float' and 'str'\n"
   ]
  },
  {
   "cell_type": "markdown",
   "id": "99ea8366-d866-482a-9801-1228c22f3bfc",
   "metadata": {},
   "source": [
    "#Q6 ANSWER"
   ]
  },
  {
   "cell_type": "markdown",
   "id": "b01dd08e-c59c-4cce-91b6-06938ab0aa91",
   "metadata": {},
   "source": [
    "The Window functions in Pandas are used to perform some sort of calculations across a set of rows that are interrelated with the current row. The Windows functions help us to perform aggregated calculations across various partitions or cross-sections of the data. The aggregate function of SQL returns us a single value after performing the calculation specified in the SQL query. On the other hand, the Windows function in Pandas, returns a value for every row of the original table.\n",
    "\n",
    "Windows function in Pandas can be broadly divided into three categories, namely- Aggregate, Ranking, and Value.\n",
    "\n",
    "The Aggregate category of window functions can be of three types, namely-\n",
    "\n",
    "Group,\n",
    "\n",
    "Rolling, and\n",
    "\n",
    "Expanding.\n",
    "\n",
    "The Ranking category of window functions can be of five types, namely-\n",
    "\n",
    "1.Row Numbers,\n",
    "\n",
    "Row numbers if of two types:\n",
    "\n",
    "a.reset_index()\n",
    "\n",
    "b.cumcount()\n",
    "\n",
    "2.Rank,\n",
    "\n",
    "Rank is of four types:\n",
    "\n",
    "a.default_rank\n",
    "\n",
    "b.min_rank\n",
    "\n",
    "c.NA_bottom\n",
    "\n",
    "d.descending\n",
    "\n",
    "3.Dense rank,\n",
    "\n",
    "4.Percent, and\n",
    "\n",
    "5.N-Tile / qcut().\n",
    "\n",
    "The Value category of window functions can be of two types, namely-\n",
    "\n",
    "Lag / Lead, and\n",
    "\n",
    "First / Last/nth."
   ]
  },
  {
   "cell_type": "markdown",
   "id": "ab772fc3-3292-44d1-8134-0801241b6f72",
   "metadata": {},
   "source": [
    "#Q7 ANSWER"
   ]
  },
  {
   "cell_type": "code",
   "execution_count": 47,
   "id": "95eec2e4-dd28-4b02-b1cd-ca4ebb83f4aa",
   "metadata": {},
   "outputs": [],
   "source": [
    "import datetime as dt"
   ]
  },
  {
   "cell_type": "code",
   "execution_count": 48,
   "id": "599c6c7d-0373-4551-b3fe-02dbbff15325",
   "metadata": {},
   "outputs": [],
   "source": [
    "t=dt.datetime.today()"
   ]
  },
  {
   "cell_type": "code",
   "execution_count": 50,
   "id": "72ccaef0-6da4-429f-9ed3-60d9cc6ec8e4",
   "metadata": {},
   "outputs": [
    {
     "name": "stdout",
     "output_type": "stream",
     "text": [
      "current year is 2023\n",
      "current time is 02:42:22.697104\n"
     ]
    }
   ],
   "source": [
    "print(f\"current year is {t.year}\")\n",
    "print(f\"current time is {t.time()}\")"
   ]
  },
  {
   "cell_type": "markdown",
   "id": "34ad4b4d-2040-4cb4-9276-b941eba72afc",
   "metadata": {},
   "source": [
    "#Q8 ANSWER"
   ]
  },
  {
   "cell_type": "code",
   "execution_count": 52,
   "id": "886c917b-5b75-405a-b2e3-5664bf9455e2",
   "metadata": {},
   "outputs": [
    {
     "name": "stdout",
     "output_type": "stream",
     "text": [
      "Enter the date in the format yyyy-mm-dd\n"
     ]
    },
    {
     "name": "stdin",
     "output_type": "stream",
     "text": [
      "enter first date\t 2023-06-14\n",
      "enter second date\t 2023-07-28\n"
     ]
    },
    {
     "name": "stdout",
     "output_type": "stream",
     "text": [
      "the difference between the dates is 44 days 00:00:00\n",
      "the difference is hours is 1056.0\n",
      "the difference is minutes is 63360.0\n"
     ]
    }
   ],
   "source": [
    "print(\"Enter the date in the format yyyy-mm-dd\")\n",
    "t1=input(\"enter first date\\t\")\n",
    "t2=input(\"enter second date\\t\")\n",
    "t1=pd.Timestamp(t1)\n",
    "t2=pd.Timestamp(t2)\n",
    "c=t2-t1\n",
    "print(f\"the difference between the dates is {c}\")\n",
    "print(f\"the difference is hours is {c/pd.Timedelta(hours=1)}\")\n",
    "print(f\"the difference is minutes is {c/pd.Timedelta(minutes=1)}\")\n"
   ]
  },
  {
   "cell_type": "markdown",
   "id": "df27f566-213b-4171-8cc7-f0e687c980b1",
   "metadata": {},
   "source": [
    "#Q9 ANSWER"
   ]
  },
  {
   "cell_type": "code",
   "execution_count": null,
   "id": "05346475-2436-4b88-be57-c6d611bbe663",
   "metadata": {},
   "outputs": [],
   "source": [
    "path=input(\"Enter the path of your file\\t\")\n",
    "colname=input(\"Enter the column name whose datatype u have to convert to categorical\")\n",
    "categoryorder=input(\"Enter the category order comma seperated\")\n",
    "categoryorder=categoryorder.split(\",\")\n",
    "df=pd.read_csv(path)\n",
    "df[colname]=pd.Categorical(df[colname],categories=categoryorder,ordered=True)\n",
    "df.sort_values(by=[colname])"
   ]
  },
  {
   "cell_type": "markdown",
   "id": "074a2281-7cb9-4dc3-8ba4-4c2adea2f977",
   "metadata": {},
   "source": [
    "#Q10 ANSWER\n"
   ]
  },
  {
   "cell_type": "code",
   "execution_count": 32,
   "id": "ea6c9fec-8712-4039-8f54-1fda79850fd3",
   "metadata": {},
   "outputs": [
    {
     "name": "stdin",
     "output_type": "stream",
     "text": [
      "Enter the path of your dataset https://gist.githubusercontent.com/fishtai0/5975c7e38c8566b9b3144e45a99b65cf/raw/941a7ecbab78d6032393ba8eed6579a563f126d6/company-sales.csv\n",
      "Enter the product column names(comma separated) whose visualisation u want to see  facecream,facewash,bathingsoap,toothpaste,shampoo,moisturizer\n",
      "Enter the duration column name month_number\n"
     ]
    },
    {
     "data": {
      "text/plain": [
       "Text(0, 0.5, 'Sales of product')"
      ]
     },
     "execution_count": 32,
     "metadata": {},
     "output_type": "execute_result"
    },
    {
     "data": {
      "image/png": "[encoded data removed]",
      "text/plain": [
       "<Figure size 1000x1000 with 1 Axes>"
      ]
     },
     "metadata": {},
     "output_type": "display_data"
    }
   ],
   "source": [
    "path=input(\"Enter the path of your dataset\")\n",
    "df=pd.read_csv(path)\n",
    "var=input(\"Enter the product column names(comma separated) whose visualisation u want to see \")\n",
    "l=var.split(\",\")\n",
    "x=input(\"Enter the duration column name\")\n",
    "d=df.plot(y=l,x=x,stacked=True,kind=\"bar\",figsize=(10,10))\n",
    "d.set_title(\"Sales of product vs Time\")\n",
    "d.set_ylabel(\"Sales of product\")"
   ]
  },
  {
   "cell_type": "markdown",
   "id": "d463854b-b8d3-408c-bccf-fd89bab38ab9",
   "metadata": {},
   "source": [
    "#Q11 ANSWER"
   ]
  },
  {
   "cell_type": "code",
   "execution_count": 33,
   "id": "0c9a4878-affd-447f-b01b-90ed4417bc67",
   "metadata": {},
   "outputs": [],
   "source": [
    "d={\n",
    "    \"Student Id\":[1,2,3,4,5,6,7,8,9,10],\n",
    "    \"Test Score\":[85,90,80,75,85,82,78,85,90,85]\n",
    "}"
   ]
  },
  {
   "cell_type": "code",
   "execution_count": 34,
   "id": "747eed38-3002-4cd2-b41b-6929eb386e0c",
   "metadata": {},
   "outputs": [],
   "source": [
    "df=pd.DataFrame(d)"
   ]
  },
  {
   "cell_type": "code",
   "execution_count": 35,
   "id": "35aa751b-0465-437f-b63a-f6a29cc89b0b",
   "metadata": {},
   "outputs": [
    {
     "data": {
      "text/html": [
       "<div>\n",
       "<style scoped>\n",
       "    .dataframe tbody tr th:only-of-type {\n",
       "        vertical-align: middle;\n",
       "    }\n",
       "\n",
       "    .dataframe tbody tr th {\n",
       "        vertical-align: top;\n",
       "    }\n",
       "\n",
       "    .dataframe thead th {\n",
       "        text-align: right;\n",
       "    }\n",
       "</style>\n",
       "<table border=\"1\" class=\"dataframe\">\n",
       "  <thead>\n",
       "    <tr style=\"text-align: right;\">\n",
       "      <th></th>\n",
       "      <th>Student Id</th>\n",
       "      <th>Test Score</th>\n",
       "    </tr>\n",
       "  </thead>\n",
       "  <tbody>\n",
       "    <tr>\n",
       "      <th>0</th>\n",
       "      <td>1</td>\n",
       "      <td>85</td>\n",
       "    </tr>\n",
       "    <tr>\n",
       "      <th>1</th>\n",
       "      <td>2</td>\n",
       "      <td>90</td>\n",
       "    </tr>\n",
       "    <tr>\n",
       "      <th>2</th>\n",
       "      <td>3</td>\n",
       "      <td>80</td>\n",
       "    </tr>\n",
       "    <tr>\n",
       "      <th>3</th>\n",
       "      <td>4</td>\n",
       "      <td>75</td>\n",
       "    </tr>\n",
       "    <tr>\n",
       "      <th>4</th>\n",
       "      <td>5</td>\n",
       "      <td>85</td>\n",
       "    </tr>\n",
       "    <tr>\n",
       "      <th>5</th>\n",
       "      <td>6</td>\n",
       "      <td>82</td>\n",
       "    </tr>\n",
       "    <tr>\n",
       "      <th>6</th>\n",
       "      <td>7</td>\n",
       "      <td>78</td>\n",
       "    </tr>\n",
       "    <tr>\n",
       "      <th>7</th>\n",
       "      <td>8</td>\n",
       "      <td>85</td>\n",
       "    </tr>\n",
       "    <tr>\n",
       "      <th>8</th>\n",
       "      <td>9</td>\n",
       "      <td>90</td>\n",
       "    </tr>\n",
       "    <tr>\n",
       "      <th>9</th>\n",
       "      <td>10</td>\n",
       "      <td>85</td>\n",
       "    </tr>\n",
       "  </tbody>\n",
       "</table>\n",
       "</div>"
      ],
      "text/plain": [
       "   Student Id  Test Score\n",
       "0           1          85\n",
       "1           2          90\n",
       "2           3          80\n",
       "3           4          75\n",
       "4           5          85\n",
       "5           6          82\n",
       "6           7          78\n",
       "7           8          85\n",
       "8           9          90\n",
       "9          10          85"
      ]
     },
     "execution_count": 35,
     "metadata": {},
     "output_type": "execute_result"
    }
   ],
   "source": [
    "df"
   ]
  },
  {
   "cell_type": "code",
   "execution_count": 36,
   "id": "f423881f-4f56-4977-b59f-240a58daa81b",
   "metadata": {},
   "outputs": [],
   "source": [
    "df2=pd.DataFrame()\n",
    "df[\"Test Score\"].mean()\n",
    "df[\"Test Score\"].median()\n",
    "df[\"Test Score\"].mode()[0]\n",
    "d1={\"Statistics\":[\"Mean\",\"Median\",\"Mode\"],\n",
    "    \"Value\":[df[\"Test Score\"].mean(),df[\"Test Score\"].median(),df[\"Test Score\"].mode()[0]]\n",
    "   }\n",
    "df2=pd.DataFrame(d1)\n"
   ]
  },
  {
   "cell_type": "code",
   "execution_count": 37,
   "id": "6136df13-1734-4647-9b42-4c218937887f",
   "metadata": {},
   "outputs": [
    {
     "data": {
      "text/html": [
       "<div>\n",
       "<style scoped>\n",
       "    .dataframe tbody tr th:only-of-type {\n",
       "        vertical-align: middle;\n",
       "    }\n",
       "\n",
       "    .dataframe tbody tr th {\n",
       "        vertical-align: top;\n",
       "    }\n",
       "\n",
       "    .dataframe thead th {\n",
       "        text-align: right;\n",
       "    }\n",
       "</style>\n",
       "<table border=\"1\" class=\"dataframe\">\n",
       "  <thead>\n",
       "    <tr style=\"text-align: right;\">\n",
       "      <th></th>\n",
       "      <th>Statistics</th>\n",
       "      <th>Value</th>\n",
       "    </tr>\n",
       "  </thead>\n",
       "  <tbody>\n",
       "    <tr>\n",
       "      <th>0</th>\n",
       "      <td>Mean</td>\n",
       "      <td>83.5</td>\n",
       "    </tr>\n",
       "    <tr>\n",
       "      <th>1</th>\n",
       "      <td>Median</td>\n",
       "      <td>85.0</td>\n",
       "    </tr>\n",
       "    <tr>\n",
       "      <th>2</th>\n",
       "      <td>Mode</td>\n",
       "      <td>85.0</td>\n",
       "    </tr>\n",
       "  </tbody>\n",
       "</table>\n",
       "</div>"
      ],
      "text/plain": [
       "  Statistics  Value\n",
       "0       Mean   83.5\n",
       "1     Median   85.0\n",
       "2       Mode   85.0"
      ]
     },
     "execution_count": 37,
     "metadata": {},
     "output_type": "execute_result"
    }
   ],
   "source": [
    "df2"
   ]
  },
  {
   "cell_type": "code",
   "execution_count": null,
   "id": "9d8621d8-da1d-4a49-8540-1c313e631290",
   "metadata": {},
   "outputs": [],
   "source": []
  }
 ],
 "metadata": {
  "kernelspec": {
   "display_name": "Python 3 (ipykernel)",
   "language": "python",
   "name": "python3"
  },
  "language_info": {
   "codemirror_mode": {
    "name": "ipython",
    "version": 3
   },
   "file_extension": ".py",
   "mimetype": "text/x-python",
   "name": "python",
   "nbconvert_exporter": "python",
   "pygments_lexer": "ipython3",
   "version": "3.10.8"
  }
 },
 "nbformat": 4,
 "nbformat_minor": 5
}
